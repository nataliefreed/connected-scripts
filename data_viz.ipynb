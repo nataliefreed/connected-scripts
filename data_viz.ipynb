{
 "cells": [
  {
   "cell_type": "markdown",
   "metadata": {},
   "source": [
    "# LEDs and the Raspberry Pi"
   ]
  },
  {
   "cell_type": "markdown",
   "metadata": {},
   "source": [
    "## Controlling the lights"
   ]
  },
  {
   "cell_type": "markdown",
   "metadata": {},
   "source": [
    "The instructions below are for the circuit pictured here. Start by making sure your circuit is connected like this:"
   ]
  },
  {
   "cell_type": "markdown",
   "metadata": {},
   "source": [
    "![raspbi_pinout_with_2_connections_leds.jpg](raspbi_pinout_with_2_connections_leds.jpg)"
   ]
  },
  {
   "cell_type": "markdown",
   "metadata": {},
   "source": [
    "Now let's get set up to control the circuit with code. First, run this setup cell:"
   ]
  },
  {
   "cell_type": "code",
   "execution_count": 4,
   "metadata": {},
   "outputs": [
    {
     "ename": "ModuleNotFoundError",
     "evalue": "No module named 'RPi'",
     "output_type": "error",
     "traceback": [
      "\u001b[0;31m---------------------------------------------------------------------------\u001b[0m",
      "\u001b[0;31mModuleNotFoundError\u001b[0m                       Traceback (most recent call last)",
      "\u001b[0;32m<ipython-input-4-58f446cbb088>\u001b[0m in \u001b[0;36m<module>\u001b[0;34m()\u001b[0m\n\u001b[0;32m----> 1\u001b[0;31m \u001b[0;32mimport\u001b[0m \u001b[0mRPi\u001b[0m\u001b[0;34m.\u001b[0m\u001b[0mGPIO\u001b[0m \u001b[0;32mas\u001b[0m \u001b[0mGPIO\u001b[0m\u001b[0;34m\u001b[0m\u001b[0m\n\u001b[0m\u001b[1;32m      2\u001b[0m \u001b[0;32mimport\u001b[0m \u001b[0mnumpy\u001b[0m \u001b[0;32mas\u001b[0m \u001b[0mnp\u001b[0m\u001b[0;34m\u001b[0m\u001b[0m\n\u001b[1;32m      3\u001b[0m \u001b[0;32mimport\u001b[0m \u001b[0mmath\u001b[0m\u001b[0;34m\u001b[0m\u001b[0m\n\u001b[1;32m      4\u001b[0m \u001b[0;34m\u001b[0m\u001b[0m\n\u001b[1;32m      5\u001b[0m \u001b[0mGPIO\u001b[0m\u001b[0;34m.\u001b[0m\u001b[0msetwarnings\u001b[0m\u001b[0;34m(\u001b[0m\u001b[0;32mFalse\u001b[0m\u001b[0;34m)\u001b[0m\u001b[0;34m\u001b[0m\u001b[0m\n",
      "\u001b[0;31mModuleNotFoundError\u001b[0m: No module named 'RPi'"
     ]
    }
   ],
   "source": [
    "import RPi.GPIO as GPIO\n",
    "import numpy as np\n",
    "import math\n",
    "\n",
    "GPIO.setwarnings(False)\n",
    "GPIO.setmode(GPIO.BCM)\n",
    "\n",
    "#Define on and off procedures so that we can use a shorter command to turn a particular pin on or off:\n",
    "def on(pin):\n",
    "    GPIO.output(pin, GPIO.HIGH)\n",
    "     \n",
    "def off(pin):\n",
    "    GPIO.output(pin, GPIO.LOW)  "
   ]
  },
  {
   "cell_type": "markdown",
   "metadata": {},
   "source": [
    "For any GPIO pin (input/output connections on the Raspberry Pi) that you want to use to control an LED, set it up as output and turn the LED off to start. Here are the pin numbers for the diagram you followed:"
   ]
  },
  {
   "cell_type": "code",
   "execution_count": 4,
   "metadata": {},
   "outputs": [],
   "source": [
    "GPIO.setup(12, GPIO.OUT)\n",
    "off(12)\n",
    "\n",
    "GPIO.setup(16, GPIO.OUT)\n",
    "off(16)"
   ]
  },
  {
   "cell_type": "markdown",
   "metadata": {},
   "source": [
    "Ok! Done with the setup. Now try using these commands to control your lights by running each cell and seeing what happens. If you don't see an error message  but your lights are not turning on, double check your connections and press down on your LEDs to make sure they are making a firm connection to the copper tape."
   ]
  },
  {
   "cell_type": "code",
   "execution_count": null,
   "metadata": {},
   "outputs": [],
   "source": [
    "on(12)"
   ]
  },
  {
   "cell_type": "code",
   "execution_count": null,
   "metadata": {},
   "outputs": [],
   "source": [
    "on(12)"
   ]
  },
  {
   "cell_type": "code",
   "execution_count": null,
   "metadata": {},
   "outputs": [],
   "source": [
    "off(16)"
   ]
  },
  {
   "cell_type": "code",
   "execution_count": null,
   "metadata": {},
   "outputs": [],
   "source": [
    "off(16)"
   ]
  },
  {
   "cell_type": "markdown",
   "metadata": {},
   "source": [
    "If you want to, you can use a variable so you can use names instead of numbers, like this:"
   ]
  },
  {
   "cell_type": "markdown",
   "metadata": {},
   "source": [
    "sunrise_LED = 16\n",
    "sunset_LED = 12"
   ]
  },
  {
   "cell_type": "markdown",
   "metadata": {},
   "source": [
    "Now you can run the same commands and they will be a little more human-readable:"
   ]
  },
  {
   "cell_type": "code",
   "execution_count": 5,
   "metadata": {},
   "outputs": [],
   "source": [
    "on(sunrise_LED)"
   ]
  },
  {
   "cell_type": "markdown",
   "metadata": {},
   "source": [
    "on(sunset_LED)"
   ]
  },
  {
   "cell_type": "markdown",
   "metadata": {},
   "source": [
    "Try it: \n",
    " * Write some lines of code to turn both the LEDs on at the same time by running the code cell below:"
   ]
  },
  {
   "cell_type": "code",
   "execution_count": null,
   "metadata": {},
   "outputs": [],
   "source": []
  },
  {
   "cell_type": "markdown",
   "metadata": {},
   "source": [
    "What if you want to program in a delay? First, you need to import the sleep functionality (to teach your Pi how to nap!)"
   ]
  },
  {
   "cell_type": "code",
   "execution_count": 7,
   "metadata": {},
   "outputs": [],
   "source": [
    "from time import sleep"
   ]
  },
  {
   "cell_type": "markdown",
   "metadata": {},
   "source": [
    "Now you can add sleep (delay) commands to make your program leave the LEDs on or off for a defined amount of time:"
   ]
  },
  {
   "cell_type": "code",
   "execution_count": null,
   "metadata": {},
   "outputs": [],
   "source": [
    "off(sunrise_LED)\n",
    "sleep(1) #wait for 1 second\n",
    "on(sunrise_LED)\n",
    "sleep(1) #wait for 1 second\n",
    "off(sunrise_LED)"
   ]
  },
  {
   "cell_type": "markdown",
   "metadata": {},
   "source": [
    "Note that you can use decimal values for sleep as well. So you can get a delay of half a second:"
   ]
  },
  {
   "cell_type": "code",
   "execution_count": 14,
   "metadata": {},
   "outputs": [],
   "source": [
    "sleep(0.5)"
   ]
  },
  {
   "cell_type": "markdown",
   "metadata": {},
   "source": [
    "Try this: how fast can you blink your LEDs on and off and still see the change? Modify the sleep time below to experiment:"
   ]
  },
  {
   "cell_type": "code",
   "execution_count": null,
   "metadata": {},
   "outputs": [],
   "source": [
    "off(sunrise_LED)\n",
    "sleep(0.5) #change this number\n",
    "on(sunrise_LED)\n",
    "sleep(0.5) #change this number\n",
    "off(sunrise_LED)"
   ]
  },
  {
   "cell_type": "markdown",
   "metadata": {},
   "source": [
    "Now try this: write a small program (a few lines of code in the cell below) that helps you visualize sunrise and sunset on your mini paper diorama."
   ]
  },
  {
   "cell_type": "code",
   "execution_count": null,
   "metadata": {},
   "outputs": [],
   "source": []
  },
  {
   "cell_type": "markdown",
   "metadata": {},
   "source": [
    "### <span style=\"color:blue\"> With **on**, **off**, and **sleep**, you can program the animations of your choice onto your paper diorama. Now that you know how to connect the LEDs, you can put lights behind your own graph, or somewhere else...maybe to show points on a map, or something else that helps share your idea. Brainstorm with your partner!</span>"
   ]
  },
  {
   "cell_type": "markdown",
   "metadata": {},
   "source": [
    "# More to Explore (if you have extra time)"
   ]
  },
  {
   "cell_type": "markdown",
   "metadata": {},
   "source": [
    "If you have a lot of LEDs connected, you can put them in a list to make them easier to work with as a group. Note: the Pi can't handle too many LEDs, and they take time to connect...we recommend around 5 maximum in your project, and 3 if you are just testing. There are 3 in the examples below:"
   ]
  },
  {
   "cell_type": "code",
   "execution_count": 10,
   "metadata": {},
   "outputs": [],
   "source": [
    "#Make a list of the pin numbers for all the Raspberry Pi GPIO pins that are connected to LEDs\n",
    "pins = [12, 16, 22] #list of pin numbers"
   ]
  },
  {
   "cell_type": "markdown",
   "metadata": {},
   "source": [
    "Now that they are in a list, we can use just a few lines of code to set them all up:"
   ]
  },
  {
   "cell_type": "code",
   "execution_count": 8,
   "metadata": {},
   "outputs": [
    {
     "ename": "NameError",
     "evalue": "name 'pins' is not defined",
     "output_type": "error",
     "traceback": [
      "\u001b[0;31m---------------------------------------------------------------------------\u001b[0m",
      "\u001b[0;31mNameError\u001b[0m                                 Traceback (most recent call last)",
      "\u001b[0;32m<ipython-input-8-51d4cdef72c7>\u001b[0m in \u001b[0;36m<module>\u001b[0;34m()\u001b[0m\n\u001b[1;32m      1\u001b[0m \u001b[0;31m#Set up each one:\u001b[0m\u001b[0;34m\u001b[0m\u001b[0;34m\u001b[0m\u001b[0m\n\u001b[0;32m----> 2\u001b[0;31m \u001b[0;32mfor\u001b[0m \u001b[0mpin\u001b[0m \u001b[0;32min\u001b[0m \u001b[0mpins\u001b[0m\u001b[0;34m:\u001b[0m \u001b[0;31m#repeat once per pin in list\u001b[0m\u001b[0;34m\u001b[0m\u001b[0m\n\u001b[0m\u001b[1;32m      3\u001b[0m     \u001b[0mGPIO\u001b[0m\u001b[0;34m.\u001b[0m\u001b[0msetup\u001b[0m\u001b[0;34m(\u001b[0m\u001b[0mpin\u001b[0m\u001b[0;34m,\u001b[0m \u001b[0mGPIO\u001b[0m\u001b[0;34m.\u001b[0m\u001b[0mOUT\u001b[0m\u001b[0;34m)\u001b[0m \u001b[0;31m#set pin to output mode\u001b[0m\u001b[0;34m\u001b[0m\u001b[0m\n\u001b[1;32m      4\u001b[0m     \u001b[0moff\u001b[0m\u001b[0;34m(\u001b[0m\u001b[0mpin\u001b[0m\u001b[0;34m)\u001b[0m \u001b[0;31m#turn pin off to start\u001b[0m\u001b[0;34m\u001b[0m\u001b[0m\n",
      "\u001b[0;31mNameError\u001b[0m: name 'pins' is not defined"
     ]
    }
   ],
   "source": [
    "#Set up each one:\n",
    "for pin in pins: #repeat once per pin in list\n",
    "    GPIO.setup(pin, GPIO.OUT) #set pin to output mode\n",
    "    off(pin) #turn pin off to start"
   ]
  },
  {
   "cell_type": "markdown",
   "metadata": {},
   "source": [
    "You can now use a \"loop\" to go through the entire pin list and have them do something at the same time:"
   ]
  },
  {
   "cell_type": "code",
   "execution_count": null,
   "metadata": {},
   "outputs": [],
   "source": [
    "for pin in pins:\n",
    "    off(pin)"
   ]
  },
  {
   "cell_type": "markdown",
   "metadata": {},
   "source": [
    "Without pausing in between changes, the LEDs change too fast to see. We can use the sleep function to add delays so you can see the changes:"
   ]
  },
  {
   "cell_type": "code",
   "execution_count": 11,
   "metadata": {},
   "outputs": [
    {
     "ename": "NameError",
     "evalue": "name 'on' is not defined",
     "output_type": "error",
     "traceback": [
      "\u001b[0;31m---------------------------------------------------------------------------\u001b[0m",
      "\u001b[0;31mNameError\u001b[0m                                 Traceback (most recent call last)",
      "\u001b[0;32m<ipython-input-11-28b7fa3f4f49>\u001b[0m in \u001b[0;36m<module>\u001b[0;34m()\u001b[0m\n\u001b[1;32m      1\u001b[0m \u001b[0;32mfor\u001b[0m \u001b[0mpin\u001b[0m \u001b[0;32min\u001b[0m \u001b[0mpins\u001b[0m\u001b[0;34m:\u001b[0m\u001b[0;34m\u001b[0m\u001b[0m\n\u001b[0;32m----> 2\u001b[0;31m     \u001b[0mon\u001b[0m\u001b[0;34m(\u001b[0m\u001b[0mpin\u001b[0m\u001b[0;34m)\u001b[0m\u001b[0;34m\u001b[0m\u001b[0m\n\u001b[0m\u001b[1;32m      3\u001b[0m     \u001b[0msleep\u001b[0m\u001b[0;34m(\u001b[0m\u001b[0;36m1\u001b[0m\u001b[0;34m)\u001b[0m\u001b[0;34m\u001b[0m\u001b[0m\n\u001b[1;32m      4\u001b[0m     \u001b[0moff\u001b[0m\u001b[0;34m(\u001b[0m\u001b[0mpin\u001b[0m\u001b[0;34m)\u001b[0m\u001b[0;34m\u001b[0m\u001b[0m\n",
      "\u001b[0;31mNameError\u001b[0m: name 'on' is not defined"
     ]
    }
   ],
   "source": [
    "for pin in pins:\n",
    "    on(pin)\n",
    "    sleep(1)\n",
    "    off(pin)"
   ]
  },
  {
   "cell_type": "markdown",
   "metadata": {},
   "source": [
    "Try this: what program would you write to make the 3 LEDs to blink on and off at the same time instead of one after the other?"
   ]
  },
  {
   "cell_type": "code",
   "execution_count": null,
   "metadata": {},
   "outputs": [],
   "source": []
  },
  {
   "cell_type": "markdown",
   "metadata": {},
   "source": [
    "What if you wanted a behavior to repeat multiple times? You can also use a loop:\n"
   ]
  },
  {
   "cell_type": "code",
   "execution_count": null,
   "metadata": {},
   "outputs": [],
   "source": [
    "led = 17\n",
    "for i in range(10):\n",
    "    on(led)\n",
    "    sleep(1)\n",
    "    off(led)"
   ]
  },
  {
   "cell_type": "markdown",
   "metadata": {},
   "source": [
    "You can make a delay that changes every time it goes through the loop:"
   ]
  },
  {
   "cell_type": "code",
   "execution_count": null,
   "metadata": {},
   "outputs": [],
   "source": [
    "led = 17\n",
    "for delay in range(1,10):\n",
    "    on(led)\n",
    "    sleep(delay)\n",
    "    off(led)"
   ]
  },
  {
   "cell_type": "markdown",
   "metadata": {},
   "source": [
    "Try this: what if you wanted to simulate movement through your LEDs (say they represent running water or moving wind)? How would you program them, and how would you control their speed?"
   ]
  },
  {
   "cell_type": "code",
   "execution_count": null,
   "metadata": {},
   "outputs": [],
   "source": []
  },
  {
   "cell_type": "markdown",
   "metadata": {},
   "source": [
    "# Even More to Explore: Data and Paper Circuits"
   ]
  },
  {
   "cell_type": "markdown",
   "metadata": {},
   "source": [
    "#### <span style=\"color:red\"> Warning! Untested instructions, may not work without some tinkering. Provided for experimentation/curiosity. Try out if your project is already on track or done and you have extra time.</span>"
   ]
  },
  {
   "cell_type": "markdown",
   "metadata": {},
   "source": [
    "### Visualization 1: Meter"
   ]
  },
  {
   "cell_type": "markdown",
   "metadata": {},
   "source": [
    "LEDs in a row make something like a bar graph or a temperature display. We can use it to \"replay\" our sensor values and watch them change over time. First, read in the sensor log data as in the example called \"graphing exercise\":"
   ]
  },
  {
   "cell_type": "code",
   "execution_count": 13,
   "metadata": {},
   "outputs": [],
   "source": [
    "import pandas as pd\n",
    "\n",
    "#set the names of each sensor data column\n",
    "names = [\"TimeStamp\", \"Light\", \"Light(RGB)\", \"Temp(C)\", \"Pressure(kPa)\", \"Heading\", \"Analog0\", \"Analog1\", \"Analog2\", \"Analog3\"]\n",
    "\n",
    "#read in the data\n",
    "data = pd.read_table('sensorlog_overnight.csv', sep=' , ', engine='python', names=names, parse_dates=['TimeStamp'])"
   ]
  },
  {
   "cell_type": "markdown",
   "metadata": {},
   "source": [
    "Then draw a super simple plot so we can see what's going on:"
   ]
  },
  {
   "cell_type": "code",
   "execution_count": 26,
   "metadata": {},
   "outputs": [
    {
     "data": {
      "text/plain": [
       "<matplotlib.axes._subplots.AxesSubplot at 0x6c66fa50>"
      ]
     },
     "execution_count": 26,
     "metadata": {},
     "output_type": "execute_result"
    },
    {
     "data": {
      "image/png": "[encoded data removed]",
      "text/plain": [
       "<matplotlib.figure.Figure at 0x6c69be90>"
      ]
     },
     "metadata": {},
     "output_type": "display_data"
    }
   ],
   "source": [
    "data['Light'].plot()"
   ]
  },
  {
   "cell_type": "markdown",
   "metadata": {},
   "source": [
    "This program will \"replay\" your data on the LEDs over time:"
   ]
  },
  {
   "cell_type": "code",
   "execution_count": null,
   "metadata": {},
   "outputs": [],
   "source": [
    "maximum = data['Light'].max() #get maximum sensor value measured\n",
    "minimum = data['Light'].min() #get maximum sensor value measured\n",
    "total_LEDs = len(pins) #total number of LED lights\n",
    "\n",
    "for measurement in data['Light']: #do the following once per measurement\n",
    "    level = math.floor(np.interp(measurement, [minimum,maximum], [0,total_LEDs])) #map the values so they match our number of LED lights\n",
    "    for index in range(0, level): #turn on some of the LEDs to show the sensor measurement\n",
    "        on(pins[index])\n",
    "    sleep(0.02) #wait in between sensor readings\n",
    "    for pin in pins: #turn LEDs off again\n",
    "        off(pin)"
   ]
  },
  {
   "cell_type": "markdown",
   "metadata": {},
   "source": [
    "### Visualization 2: Flow"
   ]
  },
  {
   "cell_type": "markdown",
   "metadata": {},
   "source": [
    "Show things like wind speed, traffic flow, water flow,..."
   ]
  },
  {
   "cell_type": "code",
   "execution_count": 43,
   "metadata": {},
   "outputs": [],
   "source": [
    "for measurement in data['Light']: #do the following once per measurement\n",
    "    delay = np.interp(measurement, [minimum,maximum], [1,0.01]) #map the values to delay times\n",
    "    for pin in pins:\n",
    "        on(pin)\n",
    "        sleep(delay)\n",
    "        off(pin)\n"
   ]
  },
  {
   "cell_type": "markdown",
   "metadata": {},
   "source": [
    "### Visualization 3: Pushbuttons and Averages"
   ]
  },
  {
   "cell_type": "markdown",
   "metadata": {},
   "source": [
    "This example uses paper circuit switches (DIY pushbuttons)."
   ]
  },
  {
   "cell_type": "code",
   "execution_count": 33,
   "metadata": {},
   "outputs": [],
   "source": [
    "morning_switch = 10\n",
    "afternoon_switch = 9\n",
    "night_switch = 11\n",
    "\n",
    "switches = [morning_switch, afternoon_switch, night_switch]\n",
    "\n",
    "for switch in switches:\n",
    "    GPIO.setup(switch, GPIO.IN, pull_up_down=GPIO.PUD_UP)\n",
    "\n",
    "light_measurements = data['Light'] #get column\n",
    "    \n",
    "afternoon_data = light_measurements[0:210]\n",
    "night_data = light_measurements[211:780]\n",
    "morning_data = light_measurements[780:]\n",
    "\n",
    "morning_avg = morning_data.mean()\n",
    "night_avg = night_data.mean()\n",
    "afternoon_avg = afternoon_data.mean()\n",
    "\n",
    "minimum = min([morning_avg, afternoon_avg, night_avg])\n",
    "maximum = max([morning_avg, afternoon_avg, night_avg])\n",
    "\n",
    "total_leds = len(leds)\n",
    "\n",
    "data['Light']\n",
    "\n",
    "def viz(value, total_leds):\n",
    "    level = math.ceil(np.interp(value, [minimum,maximum], [1,total_leds])) #map the values so they match our number of LED lights\n",
    "    for index in range(0, level): #turn on some of the LEDs to show the sensor measurement\n",
    "        on(leds[index])"
   ]
  },
  {
   "cell_type": "code",
   "execution_count": 34,
   "metadata": {},
   "outputs": [],
   "source": [
    "for _ in range(10000):\n",
    "    if GPIO.input(morning_switch) == False:\n",
    "        viz(morning_avg, 3)\n",
    "    elif GPIO.input(afternoon_switch) == False:\n",
    "        viz(afternoon_avg, 3)\n",
    "    elif GPIO.input(night_switch) == False:\n",
    "        viz(night_avg, 3)\n",
    "    else:\n",
    "        for led in leds:\n",
    "            off(led)\n",
    "    sleep(0.01)"
   ]
  },
  {
   "cell_type": "code",
   "execution_count": null,
   "metadata": {},
   "outputs": [],
   "source": []
  }
 ],
 "metadata": {
  "kernelspec": {
   "display_name": "Python 3",
   "language": "python",
   "name": "python3"
  },
  "language_info": {
   "codemirror_mode": {
    "name": "ipython",
    "version": 3
   },
   "file_extension": ".py",
   "mimetype": "text/x-python",
   "name": "python",
   "nbconvert_exporter": "python",
   "pygments_lexer": "ipython3",
   "version": "3.6.5"
  }
 },
 "nbformat": 4,
 "nbformat_minor": 2
}
